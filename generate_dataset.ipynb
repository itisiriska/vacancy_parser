{
 "cells": [
  {
   "cell_type": "code",
   "execution_count": 1,
   "metadata": {},
   "outputs": [],
   "source": [
    "import warnings\n",
    "\n",
    "warnings.simplefilter(action='ignore')"
   ]
  },
  {
   "cell_type": "code",
   "execution_count": 2,
   "outputs": [],
   "source": [
    "import numpy as np\n",
    "import pandas as pd\n",
    "import seaborn as sns\n",
    "import spacy\n",
    "import re\n",
    "\n",
    "from tqdm import tqdm\n",
    "from nltk.corpus import stopwords\n",
    "from string import punctuation\n",
    "from nltk.util import ngrams"
   ],
   "metadata": {
    "collapsed": false,
    "pycharm": {
     "name": "#%%\n"
    }
   }
  },
  {
   "cell_type": "markdown",
   "source": [
    "# Объявление функций и констант"
   ],
   "metadata": {
    "collapsed": false
   }
  },
  {
   "cell_type": "code",
   "execution_count": 3,
   "metadata": {},
   "outputs": [],
   "source": [
    "sns.set()\n",
    "tqdm.pandas()\n",
    "nlp = spacy.load('ru_core_news_sm')\n",
    "stop_words = stopwords.words('russian')"
   ]
  },
  {
   "cell_type": "code",
   "execution_count": 4,
   "metadata": {},
   "outputs": [],
   "source": [
    "DATA_PATH = 'data/Датасет.xlsx'\n",
    "SAVE_TO = 'data/dataset8.pkl'\n",
    "\n",
    "emoji_pattern = re.compile(\"[\"\n",
    "        u\"\\U0001F600-\\U0001F64F\"  # emoticons\n",
    "        u\"\\U0001F300-\\U0001F5FF\"  # symbols & pictographs\n",
    "        u\"\\U0001F680-\\U0001F6FF\"  # transport & map symbols\n",
    "        u\"\\U0001F1E0-\\U0001F1FF\"  # flags (iOS)\n",
    "                           \"]+\", flags=re.UNICODE\n",
    ")"
   ]
  },
  {
   "cell_type": "code",
   "execution_count": 5,
   "outputs": [],
   "source": [
    "def intersection(b1, b_list):\n",
    "    for b2 in b_list:\n",
    "        if b1[-1] == b2[0] or b1[0] == b2[-1]:\n",
    "            return True\n",
    "    return False\n",
    "\n",
    "\n",
    "def map_ngrams(bigram, req_bigrams, terms_bigrams):\n",
    "    if req_bigrams and bigram in req_bigrams:\n",
    "        return 0\n",
    "    elif terms_bigrams and bigram in terms_bigrams:\n",
    "        return 1\n",
    "    elif req_bigrams and intersection(bigram, req_bigrams):\n",
    "        return 3\n",
    "    elif terms_bigrams and intersection(bigram, terms_bigrams):\n",
    "        return 3\n",
    "    else:\n",
    "        return 2\n",
    "\n",
    "\n",
    "def generate_dataset(df_slice):\n",
    "    req_bigrams = list(ngrams(df_slice.loc['requirements_cleaned'], 4)) if not np.all(\n",
    "        pd.isna(df_slice.loc['requirements_cleaned'])) else []\n",
    "    terms_bigrams = list(ngrams(df_slice.loc['terms_cleaned'], 4)) if not np.all(\n",
    "        pd.isna(df_slice.loc['terms_cleaned'])) else []\n",
    "\n",
    "    res_df = pd.DataFrame()\n",
    "    res_df['responsibilities_bigrams'] = list(ngrams(df_slice['responsibilities_cleaned'], 4))\n",
    "    res_df['id'] = df_slice['id']\n",
    "    res_df['class'] = res_df['responsibilities_bigrams'].apply(lambda x: map_ngrams(x, req_bigrams, terms_bigrams))\n",
    "\n",
    "    return res_df[['id', 'responsibilities_bigrams', 'class']]"
   ],
   "metadata": {
    "collapsed": false,
    "pycharm": {
     "name": "#%%\n"
    }
   }
  },
  {
   "cell_type": "markdown",
   "source": [
    "# Подготовка данных"
   ],
   "metadata": {
    "collapsed": false,
    "pycharm": {
     "name": "#%% md\n"
    }
   }
  },
  {
   "cell_type": "code",
   "execution_count": 7,
   "metadata": {},
   "outputs": [
    {
     "data": {
      "text/plain": "        id name(название)                      specialization(специализация)  \\\n0  9495846     Арматурщик                                         Арматурщик   \n1  9495850     Арматурщик                                         Арматурщик   \n2  9495851     Арматурщик                                         Арматурщик   \n3        2     Арматурщик                                         Арматурщик   \n4  9388857     Арматурщик  Арматурщик Вахта в мcк (питание+проживание) 60/30   \n\n           responsibilities(Должностные обязанности)  \\\n0  Работа на строительных площадках. Очистных соо...   \n1  Гнутье арматурной стали на механических станка...   \n2                                    Вязка арматуры.   \n3  Выполнение работ по гнутью и резке арматурной ...   \n4  Вахта в город Москва.  Обязанности: - армирова...   \n\n               requirements(Требования к соискателю)  \\\n0                                                NaN   \n1                                                NaN   \n2                                                NaN   \n3  Выполнение работ по гнутью и резке арматурной ...   \n4  опыт в строительстве приветствуется; работа в ...   \n\n                                      terms(Условия) skills(Ключевые навыки)  \\\n0                                                NaN                     NaN   \n1                                                NaN                     NaN   \n2                                                NaN                     NaN   \n3                                                NaN                      \\N   \n4  продолжительность вахты 60/30 (продление вахты...                     NaN   \n\n   salary_from salary_to                 object  ... updated_by    position  \\\n0       150000    170000                    NaN  ...         \\N  Арматурщик   \n1       130000    150000                    NaN  ...         \\N  Арматурщик   \n2        85000     90000                    NaN  ...         \\N  Арматурщик   \n3        50000    100000  ООО \"АЛЬМИС_ИНТЕГРАЛ\"  ...          1  Арматурщик   \n4        67000    134000                    NaN  ...         \\N  Арматурщик   \n\n         phone                    website                  email image  \\\n0          NaN                         hh               hh@hh.ru    \\N   \n1          NaN                         hh               hh@hh.ru    \\N   \n2          NaN                         hh               hh@hh.ru    \\N   \n3  74959214241  https://almisintegral.ru/  info@almisintegral.ru    \\N   \n4          NaN                      avito         avito@avito.ru    \\N   \n\n    unique_code  city_code  source_id                   link_resource  \n0   HH-81058502         \\N          1  https://hh.ru/vacancy/81058502  \n1   HH-80163818         \\N          1  https://hh.ru/vacancy/80163818  \n2   HH-77729491         \\N          1  https://hh.ru/vacancy/77729491  \n3            \\N         \\N          1                              \\N  \n4  A-3037298578         \\N          1     https://avito.ru/3037298578  \n\n[5 rows x 35 columns]",
      "text/html": "<div>\n<style scoped>\n    .dataframe tbody tr th:only-of-type {\n        vertical-align: middle;\n    }\n\n    .dataframe tbody tr th {\n        vertical-align: top;\n    }\n\n    .dataframe thead th {\n        text-align: right;\n    }\n</style>\n<table border=\"1\" class=\"dataframe\">\n  <thead>\n    <tr style=\"text-align: right;\">\n      <th></th>\n      <th>id</th>\n      <th>name(название)</th>\n      <th>specialization(специализация)</th>\n      <th>responsibilities(Должностные обязанности)</th>\n      <th>requirements(Требования к соискателю)</th>\n      <th>terms(Условия)</th>\n      <th>skills(Ключевые навыки)</th>\n      <th>salary_from</th>\n      <th>salary_to</th>\n      <th>object</th>\n      <th>...</th>\n      <th>updated_by</th>\n      <th>position</th>\n      <th>phone</th>\n      <th>website</th>\n      <th>email</th>\n      <th>image</th>\n      <th>unique_code</th>\n      <th>city_code</th>\n      <th>source_id</th>\n      <th>link_resource</th>\n    </tr>\n  </thead>\n  <tbody>\n    <tr>\n      <th>0</th>\n      <td>9495846</td>\n      <td>Арматурщик</td>\n      <td>Арматурщик</td>\n      <td>Работа на строительных площадках. Очистных соо...</td>\n      <td>NaN</td>\n      <td>NaN</td>\n      <td>NaN</td>\n      <td>150000</td>\n      <td>170000</td>\n      <td>NaN</td>\n      <td>...</td>\n      <td>\\N</td>\n      <td>Арматурщик</td>\n      <td>NaN</td>\n      <td>hh</td>\n      <td>hh@hh.ru</td>\n      <td>\\N</td>\n      <td>HH-81058502</td>\n      <td>\\N</td>\n      <td>1</td>\n      <td>https://hh.ru/vacancy/81058502</td>\n    </tr>\n    <tr>\n      <th>1</th>\n      <td>9495850</td>\n      <td>Арматурщик</td>\n      <td>Арматурщик</td>\n      <td>Гнутье арматурной стали на механических станка...</td>\n      <td>NaN</td>\n      <td>NaN</td>\n      <td>NaN</td>\n      <td>130000</td>\n      <td>150000</td>\n      <td>NaN</td>\n      <td>...</td>\n      <td>\\N</td>\n      <td>Арматурщик</td>\n      <td>NaN</td>\n      <td>hh</td>\n      <td>hh@hh.ru</td>\n      <td>\\N</td>\n      <td>HH-80163818</td>\n      <td>\\N</td>\n      <td>1</td>\n      <td>https://hh.ru/vacancy/80163818</td>\n    </tr>\n    <tr>\n      <th>2</th>\n      <td>9495851</td>\n      <td>Арматурщик</td>\n      <td>Арматурщик</td>\n      <td>Вязка арматуры.</td>\n      <td>NaN</td>\n      <td>NaN</td>\n      <td>NaN</td>\n      <td>85000</td>\n      <td>90000</td>\n      <td>NaN</td>\n      <td>...</td>\n      <td>\\N</td>\n      <td>Арматурщик</td>\n      <td>NaN</td>\n      <td>hh</td>\n      <td>hh@hh.ru</td>\n      <td>\\N</td>\n      <td>HH-77729491</td>\n      <td>\\N</td>\n      <td>1</td>\n      <td>https://hh.ru/vacancy/77729491</td>\n    </tr>\n    <tr>\n      <th>3</th>\n      <td>2</td>\n      <td>Арматурщик</td>\n      <td>Арматурщик</td>\n      <td>Выполнение работ по гнутью и резке арматурной ...</td>\n      <td>Выполнение работ по гнутью и резке арматурной ...</td>\n      <td>NaN</td>\n      <td>\\N</td>\n      <td>50000</td>\n      <td>100000</td>\n      <td>ООО \"АЛЬМИС_ИНТЕГРАЛ\"</td>\n      <td>...</td>\n      <td>1</td>\n      <td>Арматурщик</td>\n      <td>74959214241</td>\n      <td>https://almisintegral.ru/</td>\n      <td>info@almisintegral.ru</td>\n      <td>\\N</td>\n      <td>\\N</td>\n      <td>\\N</td>\n      <td>1</td>\n      <td>\\N</td>\n    </tr>\n    <tr>\n      <th>4</th>\n      <td>9388857</td>\n      <td>Арматурщик</td>\n      <td>Арматурщик Вахта в мcк (питание+проживание) 60/30</td>\n      <td>Вахта в город Москва.  Обязанности: - армирова...</td>\n      <td>опыт в строительстве приветствуется; работа в ...</td>\n      <td>продолжительность вахты 60/30 (продление вахты...</td>\n      <td>NaN</td>\n      <td>67000</td>\n      <td>134000</td>\n      <td>NaN</td>\n      <td>...</td>\n      <td>\\N</td>\n      <td>Арматурщик</td>\n      <td>NaN</td>\n      <td>avito</td>\n      <td>avito@avito.ru</td>\n      <td>\\N</td>\n      <td>A-3037298578</td>\n      <td>\\N</td>\n      <td>1</td>\n      <td>https://avito.ru/3037298578</td>\n    </tr>\n  </tbody>\n</table>\n<p>5 rows × 35 columns</p>\n</div>"
     },
     "execution_count": 7,
     "metadata": {},
     "output_type": "execute_result"
    }
   ],
   "source": [
    "df = pd.read_excel(DATA_PATH)\n",
    "df.head()"
   ]
  },
  {
   "cell_type": "code",
   "execution_count": 8,
   "metadata": {},
   "outputs": [],
   "source": [
    "df_clf = df[[\n",
    "    'id',\n",
    "    'responsibilities(Должностные обязанности)',\n",
    "    'requirements(Требования к соискателю)', \n",
    "    'terms(Условия)'\n",
    "]]"
   ]
  },
  {
   "cell_type": "code",
   "execution_count": 9,
   "metadata": {},
   "outputs": [
    {
     "data": {
      "text/plain": "          id          responsibilities(Должностные обязанности)  \\\n0    9495846  Работа на строительных площадках. Очистных соо...   \n1    9495850  Гнутье арматурной стали на механических станка...   \n2    9495851                                    Вязка арматуры.   \n3          2  Выполнение работ по гнутью и резке арматурной ...   \n4    9388857  Вахта в город Москва.  Обязанности: - армирова...   \n..       ...                                                ...   \n994  9306889  Обязанности: Проектирование ультразвуковых пре...   \n995  9306890  Внимание пока обьявление висит, ведется набор!...   \n996  9306891  Требуется слесарь в цех по ремонту и балансиро...   \n997  9306892  🔥 К нам в команду требуются:  🔸 Мастер по окле...   \n998  9306893  Описание работодателя: Спичечная фабрика ФЭСКО...   \n\n                 requirements(Требования к соискателю)  \\\n0                                                  NaN   \n1                                                  NaN   \n2                                                  NaN   \n3    Выполнение работ по гнутью и резке арматурной ...   \n4    опыт в строительстве приветствуется; работа в ...   \n..                                                 ...   \n994                                                NaN   \n995  Приветствуется опыт по установке систем кондиц...   \n996  Обучаем. Токарные навыки и сварочные навыки пр...   \n997  пыт работы, знание и понимание принципов работ...   \n998                                         разряд 5-6   \n\n                                        terms(Условия)  \n0                                                  NaN  \n1                                                  NaN  \n2                                                  NaN  \n3                                                  NaN  \n4    продолжительность вахты 60/30 (продление вахты...  \n..                                                 ...  \n994                                    офисные условия  \n995   Оплата производится раз в неделю по субботам!...  \n996               Зарплата, график работы обсуждаются.  \n997                                                NaN  \n998  5/2 - 8 часовые смены, в т.ч. в ночь, з/п по к...  \n\n[999 rows x 4 columns]",
      "text/html": "<div>\n<style scoped>\n    .dataframe tbody tr th:only-of-type {\n        vertical-align: middle;\n    }\n\n    .dataframe tbody tr th {\n        vertical-align: top;\n    }\n\n    .dataframe thead th {\n        text-align: right;\n    }\n</style>\n<table border=\"1\" class=\"dataframe\">\n  <thead>\n    <tr style=\"text-align: right;\">\n      <th></th>\n      <th>id</th>\n      <th>responsibilities(Должностные обязанности)</th>\n      <th>requirements(Требования к соискателю)</th>\n      <th>terms(Условия)</th>\n    </tr>\n  </thead>\n  <tbody>\n    <tr>\n      <th>0</th>\n      <td>9495846</td>\n      <td>Работа на строительных площадках. Очистных соо...</td>\n      <td>NaN</td>\n      <td>NaN</td>\n    </tr>\n    <tr>\n      <th>1</th>\n      <td>9495850</td>\n      <td>Гнутье арматурной стали на механических станка...</td>\n      <td>NaN</td>\n      <td>NaN</td>\n    </tr>\n    <tr>\n      <th>2</th>\n      <td>9495851</td>\n      <td>Вязка арматуры.</td>\n      <td>NaN</td>\n      <td>NaN</td>\n    </tr>\n    <tr>\n      <th>3</th>\n      <td>2</td>\n      <td>Выполнение работ по гнутью и резке арматурной ...</td>\n      <td>Выполнение работ по гнутью и резке арматурной ...</td>\n      <td>NaN</td>\n    </tr>\n    <tr>\n      <th>4</th>\n      <td>9388857</td>\n      <td>Вахта в город Москва.  Обязанности: - армирова...</td>\n      <td>опыт в строительстве приветствуется; работа в ...</td>\n      <td>продолжительность вахты 60/30 (продление вахты...</td>\n    </tr>\n    <tr>\n      <th>...</th>\n      <td>...</td>\n      <td>...</td>\n      <td>...</td>\n      <td>...</td>\n    </tr>\n    <tr>\n      <th>994</th>\n      <td>9306889</td>\n      <td>Обязанности: Проектирование ультразвуковых пре...</td>\n      <td>NaN</td>\n      <td>офисные условия</td>\n    </tr>\n    <tr>\n      <th>995</th>\n      <td>9306890</td>\n      <td>Внимание пока обьявление висит, ведется набор!...</td>\n      <td>Приветствуется опыт по установке систем кондиц...</td>\n      <td>Оплата производится раз в неделю по субботам!...</td>\n    </tr>\n    <tr>\n      <th>996</th>\n      <td>9306891</td>\n      <td>Требуется слесарь в цех по ремонту и балансиро...</td>\n      <td>Обучаем. Токарные навыки и сварочные навыки пр...</td>\n      <td>Зарплата, график работы обсуждаются.</td>\n    </tr>\n    <tr>\n      <th>997</th>\n      <td>9306892</td>\n      <td>🔥 К нам в команду требуются:  🔸 Мастер по окле...</td>\n      <td>пыт работы, знание и понимание принципов работ...</td>\n      <td>NaN</td>\n    </tr>\n    <tr>\n      <th>998</th>\n      <td>9306893</td>\n      <td>Описание работодателя: Спичечная фабрика ФЭСКО...</td>\n      <td>разряд 5-6</td>\n      <td>5/2 - 8 часовые смены, в т.ч. в ночь, з/п по к...</td>\n    </tr>\n  </tbody>\n</table>\n<p>999 rows × 4 columns</p>\n</div>"
     },
     "execution_count": 9,
     "metadata": {},
     "output_type": "execute_result"
    }
   ],
   "source": [
    "df_clf"
   ]
  },
  {
   "cell_type": "code",
   "execution_count": 10,
   "metadata": {},
   "outputs": [],
   "source": [
    "df_clf['responsibilities(Должностные обязанности)'] = df_clf['responsibilities(Должностные обязанности)'].apply(\n",
    "    lambda x: str.lower(str(x)) if not pd.isna(x) else x\n",
    ").apply(\n",
    "    lambda x: re.sub(emoji_pattern, '', x)\n",
    ")\n",
    "df_clf['requirements(Требования к соискателю)'] = df_clf['requirements(Требования к соискателю)'].apply(\n",
    "    lambda x: str.lower(str(x)) if not pd.isna(x) else x\n",
    ")\n",
    "df_clf['terms(Условия)'] = df_clf['terms(Условия)'].apply(lambda x: str.lower(str(x)) if not pd.isna(x) else x)"
   ]
  },
  {
   "cell_type": "code",
   "execution_count": 11,
   "metadata": {},
   "outputs": [
    {
     "name": "stderr",
     "output_type": "stream",
     "text": [
      "100%|██████████| 999/999 [01:25<00:00, 11.70it/s]\n",
      "100%|██████████| 999/999 [00:16<00:00, 61.88it/s]\n",
      "100%|██████████| 999/999 [00:30<00:00, 32.44it/s]\n"
     ]
    }
   ],
   "source": [
    "df_clf['responsibilities_spacy'] = df_clf['responsibilities(Должностные обязанности)'].progress_apply(lambda x: nlp(x) if not pd.isna(x) else x)\n",
    "df_clf['requirements_spacy'] = df_clf['requirements(Требования к соискателю)'].progress_apply(lambda x: nlp(x) if not pd.isna(x) else x)\n",
    "df_clf['terms_spacy'] = df_clf['terms(Условия)'].progress_apply(lambda x: nlp(x) if not pd.isna(x) else x)"
   ]
  },
  {
   "cell_type": "code",
   "execution_count": 12,
   "metadata": {},
   "outputs": [
    {
     "data": {
      "text/plain": "          id          responsibilities(Должностные обязанности)  \\\n0    9495846  работа на строительных площадках. очистных соо...   \n1    9495850  гнутье арматурной стали на механических станка...   \n2    9495851                                    вязка арматуры.   \n3          2  выполнение работ по гнутью и резке арматурной ...   \n4    9388857  вахта в город москва.  обязанности: - армирова...   \n..       ...                                                ...   \n994  9306889  обязанности: проектирование ультразвуковых пре...   \n995  9306890  внимание пока обьявление висит, ведется набор!...   \n996  9306891  требуется слесарь в цех по ремонту и балансиро...   \n997  9306892   к нам в команду требуются:   мастер по оклейк...   \n998  9306893  описание работодателя: спичечная фабрика фэско...   \n\n                 requirements(Требования к соискателю)  \\\n0                                                  NaN   \n1                                                  NaN   \n2                                                  NaN   \n3    выполнение работ по гнутью и резке арматурной ...   \n4    опыт в строительстве приветствуется; работа в ...   \n..                                                 ...   \n994                                                NaN   \n995  приветствуется опыт по установке систем кондиц...   \n996  обучаем. токарные навыки и сварочные навыки пр...   \n997  пыт работы, знание и понимание принципов работ...   \n998                                         разряд 5-6   \n\n                                        terms(Условия)  \\\n0                                                  NaN   \n1                                                  NaN   \n2                                                  NaN   \n3                                                  NaN   \n4    продолжительность вахты 60/30 (продление вахты...   \n..                                                 ...   \n994                                    офисные условия   \n995   оплата производится раз в неделю по субботам!...   \n996               зарплата, график работы обсуждаются.   \n997                                                NaN   \n998  5/2 - 8 часовые смены, в т.ч. в ночь, з/п по к...   \n\n                                responsibilities_spacy  \\\n0    (работа, на, строительных, площадках, ., очист...   \n1    (гнутье, арматурной, стали, на, механических, ...   \n2                                 (вязка, арматуры, .)   \n3    (выполнение, работ, по, гнутью, и, резке, арма...   \n4    (вахта, в, город, москва, .,  , обязанности, :...   \n..                                                 ...   \n994  (обязанности, :, проектирование, ультразвуковы...   \n995  (внимание, пока, обьявление, висит, ,, ведется...   \n996  (требуется, слесарь, в, цех, по, ремонту, и, б...   \n997  ( , к, нам, в, команду, требуются, :,   , маст...   \n998  (описание, работодателя, :, спичечная, фабрика...   \n\n                                    requirements_spacy  \\\n0                                                  NaN   \n1                                                  NaN   \n2                                                  NaN   \n3    (выполнение, работ, по, гнутью, и, резке, арма...   \n4    (опыт, в, строительстве, приветствуется, ;, ра...   \n..                                                 ...   \n994                                                NaN   \n995  (приветствуется, опыт, по, установке, систем, ...   \n996  (обучаем, ., токарные, навыки, и, сварочные, н...   \n997  (пыт, работы, ,, знание, и, понимание, принцип...   \n998                                  (разряд, 5, -, 6)   \n\n                                           terms_spacy  \n0                                                  NaN  \n1                                                  NaN  \n2                                                  NaN  \n3                                                  NaN  \n4    (продолжительность, вахты, 60/30, (, продление...  \n..                                                 ...  \n994                                 (офисные, условия)  \n995  ( , оплата, производится, раз, в, неделю, по, ...  \n996      (зарплата, ,, график, работы, обсуждаются, .)  \n997                                                NaN  \n998  (5/2, -, 8, часовые, смены, ,, в т.ч., в, ночь...  \n\n[999 rows x 7 columns]",
      "text/html": "<div>\n<style scoped>\n    .dataframe tbody tr th:only-of-type {\n        vertical-align: middle;\n    }\n\n    .dataframe tbody tr th {\n        vertical-align: top;\n    }\n\n    .dataframe thead th {\n        text-align: right;\n    }\n</style>\n<table border=\"1\" class=\"dataframe\">\n  <thead>\n    <tr style=\"text-align: right;\">\n      <th></th>\n      <th>id</th>\n      <th>responsibilities(Должностные обязанности)</th>\n      <th>requirements(Требования к соискателю)</th>\n      <th>terms(Условия)</th>\n      <th>responsibilities_spacy</th>\n      <th>requirements_spacy</th>\n      <th>terms_spacy</th>\n    </tr>\n  </thead>\n  <tbody>\n    <tr>\n      <th>0</th>\n      <td>9495846</td>\n      <td>работа на строительных площадках. очистных соо...</td>\n      <td>NaN</td>\n      <td>NaN</td>\n      <td>(работа, на, строительных, площадках, ., очист...</td>\n      <td>NaN</td>\n      <td>NaN</td>\n    </tr>\n    <tr>\n      <th>1</th>\n      <td>9495850</td>\n      <td>гнутье арматурной стали на механических станка...</td>\n      <td>NaN</td>\n      <td>NaN</td>\n      <td>(гнутье, арматурной, стали, на, механических, ...</td>\n      <td>NaN</td>\n      <td>NaN</td>\n    </tr>\n    <tr>\n      <th>2</th>\n      <td>9495851</td>\n      <td>вязка арматуры.</td>\n      <td>NaN</td>\n      <td>NaN</td>\n      <td>(вязка, арматуры, .)</td>\n      <td>NaN</td>\n      <td>NaN</td>\n    </tr>\n    <tr>\n      <th>3</th>\n      <td>2</td>\n      <td>выполнение работ по гнутью и резке арматурной ...</td>\n      <td>выполнение работ по гнутью и резке арматурной ...</td>\n      <td>NaN</td>\n      <td>(выполнение, работ, по, гнутью, и, резке, арма...</td>\n      <td>(выполнение, работ, по, гнутью, и, резке, арма...</td>\n      <td>NaN</td>\n    </tr>\n    <tr>\n      <th>4</th>\n      <td>9388857</td>\n      <td>вахта в город москва.  обязанности: - армирова...</td>\n      <td>опыт в строительстве приветствуется; работа в ...</td>\n      <td>продолжительность вахты 60/30 (продление вахты...</td>\n      <td>(вахта, в, город, москва, .,  , обязанности, :...</td>\n      <td>(опыт, в, строительстве, приветствуется, ;, ра...</td>\n      <td>(продолжительность, вахты, 60/30, (, продление...</td>\n    </tr>\n    <tr>\n      <th>...</th>\n      <td>...</td>\n      <td>...</td>\n      <td>...</td>\n      <td>...</td>\n      <td>...</td>\n      <td>...</td>\n      <td>...</td>\n    </tr>\n    <tr>\n      <th>994</th>\n      <td>9306889</td>\n      <td>обязанности: проектирование ультразвуковых пре...</td>\n      <td>NaN</td>\n      <td>офисные условия</td>\n      <td>(обязанности, :, проектирование, ультразвуковы...</td>\n      <td>NaN</td>\n      <td>(офисные, условия)</td>\n    </tr>\n    <tr>\n      <th>995</th>\n      <td>9306890</td>\n      <td>внимание пока обьявление висит, ведется набор!...</td>\n      <td>приветствуется опыт по установке систем кондиц...</td>\n      <td>оплата производится раз в неделю по субботам!...</td>\n      <td>(внимание, пока, обьявление, висит, ,, ведется...</td>\n      <td>(приветствуется, опыт, по, установке, систем, ...</td>\n      <td>( , оплата, производится, раз, в, неделю, по, ...</td>\n    </tr>\n    <tr>\n      <th>996</th>\n      <td>9306891</td>\n      <td>требуется слесарь в цех по ремонту и балансиро...</td>\n      <td>обучаем. токарные навыки и сварочные навыки пр...</td>\n      <td>зарплата, график работы обсуждаются.</td>\n      <td>(требуется, слесарь, в, цех, по, ремонту, и, б...</td>\n      <td>(обучаем, ., токарные, навыки, и, сварочные, н...</td>\n      <td>(зарплата, ,, график, работы, обсуждаются, .)</td>\n    </tr>\n    <tr>\n      <th>997</th>\n      <td>9306892</td>\n      <td>к нам в команду требуются:   мастер по оклейк...</td>\n      <td>пыт работы, знание и понимание принципов работ...</td>\n      <td>NaN</td>\n      <td>( , к, нам, в, команду, требуются, :,   , маст...</td>\n      <td>(пыт, работы, ,, знание, и, понимание, принцип...</td>\n      <td>NaN</td>\n    </tr>\n    <tr>\n      <th>998</th>\n      <td>9306893</td>\n      <td>описание работодателя: спичечная фабрика фэско...</td>\n      <td>разряд 5-6</td>\n      <td>5/2 - 8 часовые смены, в т.ч. в ночь, з/п по к...</td>\n      <td>(описание, работодателя, :, спичечная, фабрика...</td>\n      <td>(разряд, 5, -, 6)</td>\n      <td>(5/2, -, 8, часовые, смены, ,, в т.ч., в, ночь...</td>\n    </tr>\n  </tbody>\n</table>\n<p>999 rows × 7 columns</p>\n</div>"
     },
     "execution_count": 12,
     "metadata": {},
     "output_type": "execute_result"
    }
   ],
   "source": [
    "df_clf"
   ]
  },
  {
   "cell_type": "code",
   "execution_count": 13,
   "metadata": {},
   "outputs": [
    {
     "name": "stderr",
     "output_type": "stream",
     "text": [
      "100%|██████████| 999/999 [00:01<00:00, 537.66it/s]\n",
      "100%|██████████| 999/999 [00:00<00:00, 11389.70it/s]\n",
      "100%|██████████| 999/999 [00:00<00:00, 5808.38it/s]\n"
     ]
    }
   ],
   "source": [
    "for col in ['responsibilities', 'requirements', 'terms']:\n",
    "    df_clf[f'{col}_cleaned'] = df_clf[f'{col}_spacy'].progress_apply(\n",
    "        lambda doc: [\n",
    "            w.text.strip() for w in doc\n",
    "            if w.text not in list(punctuation) + ['—', '•', '·', '–', '”', '“', '×'] and\n",
    "            w.lemma_.strip()\n",
    "        ]\n",
    "        if not pd.isna(doc) else doc\n",
    "    )"
   ]
  },
  {
   "cell_type": "code",
   "execution_count": 14,
   "metadata": {},
   "outputs": [
    {
     "data": {
      "text/plain": "                              responsibilities_cleaned  \\\n0    [работа, на, строительных, площадках, очистных...   \n1    [гнутье, арматурной, стали, на, механических, ...   \n2                                    [вязка, арматуры]   \n3    [выполнение, работ, по, гнутью, и, резке, арма...   \n4    [вахта, в, город, москва, обязанности, армиров...   \n..                                                 ...   \n994  [обязанности, проектирование, ультразвуковых, ...   \n995  [внимание, пока, обьявление, висит, ведется, н...   \n996  [требуется, слесарь, в, цех, по, ремонту, и, б...   \n997  [к, нам, в, команду, требуются, мастер, по, ок...   \n998  [описание, работодателя, спичечная, фабрика, ф...   \n\n                                  requirements_cleaned  \\\n0                                                  NaN   \n1                                                  NaN   \n2                                                  NaN   \n3    [выполнение, работ, по, гнутью, и, резке, арма...   \n4    [опыт, в, строительстве, приветствуется, работ...   \n..                                                 ...   \n994                                                NaN   \n995  [приветствуется, опыт, по, установке, систем, ...   \n996  [обучаем, токарные, навыки, и, сварочные, навы...   \n997  [пыт, работы, знание, и, понимание, принципов,...   \n998                                     [разряд, 5, 6]   \n\n                                         terms_cleaned  \n0                                                  NaN  \n1                                                  NaN  \n2                                                  NaN  \n3                                                  NaN  \n4    [продолжительность, вахты, 60/30, продление, в...  \n..                                                 ...  \n994                                 [офисные, условия]  \n995  [оплата, производится, раз, в, неделю, по, суб...  \n996            [зарплата, график, работы, обсуждаются]  \n997                                                NaN  \n998  [5/2, 8, часовые, смены, в т.ч., в, ночь, з, п...  \n\n[999 rows x 3 columns]",
      "text/html": "<div>\n<style scoped>\n    .dataframe tbody tr th:only-of-type {\n        vertical-align: middle;\n    }\n\n    .dataframe tbody tr th {\n        vertical-align: top;\n    }\n\n    .dataframe thead th {\n        text-align: right;\n    }\n</style>\n<table border=\"1\" class=\"dataframe\">\n  <thead>\n    <tr style=\"text-align: right;\">\n      <th></th>\n      <th>responsibilities_cleaned</th>\n      <th>requirements_cleaned</th>\n      <th>terms_cleaned</th>\n    </tr>\n  </thead>\n  <tbody>\n    <tr>\n      <th>0</th>\n      <td>[работа, на, строительных, площадках, очистных...</td>\n      <td>NaN</td>\n      <td>NaN</td>\n    </tr>\n    <tr>\n      <th>1</th>\n      <td>[гнутье, арматурной, стали, на, механических, ...</td>\n      <td>NaN</td>\n      <td>NaN</td>\n    </tr>\n    <tr>\n      <th>2</th>\n      <td>[вязка, арматуры]</td>\n      <td>NaN</td>\n      <td>NaN</td>\n    </tr>\n    <tr>\n      <th>3</th>\n      <td>[выполнение, работ, по, гнутью, и, резке, арма...</td>\n      <td>[выполнение, работ, по, гнутью, и, резке, арма...</td>\n      <td>NaN</td>\n    </tr>\n    <tr>\n      <th>4</th>\n      <td>[вахта, в, город, москва, обязанности, армиров...</td>\n      <td>[опыт, в, строительстве, приветствуется, работ...</td>\n      <td>[продолжительность, вахты, 60/30, продление, в...</td>\n    </tr>\n    <tr>\n      <th>...</th>\n      <td>...</td>\n      <td>...</td>\n      <td>...</td>\n    </tr>\n    <tr>\n      <th>994</th>\n      <td>[обязанности, проектирование, ультразвуковых, ...</td>\n      <td>NaN</td>\n      <td>[офисные, условия]</td>\n    </tr>\n    <tr>\n      <th>995</th>\n      <td>[внимание, пока, обьявление, висит, ведется, н...</td>\n      <td>[приветствуется, опыт, по, установке, систем, ...</td>\n      <td>[оплата, производится, раз, в, неделю, по, суб...</td>\n    </tr>\n    <tr>\n      <th>996</th>\n      <td>[требуется, слесарь, в, цех, по, ремонту, и, б...</td>\n      <td>[обучаем, токарные, навыки, и, сварочные, навы...</td>\n      <td>[зарплата, график, работы, обсуждаются]</td>\n    </tr>\n    <tr>\n      <th>997</th>\n      <td>[к, нам, в, команду, требуются, мастер, по, ок...</td>\n      <td>[пыт, работы, знание, и, понимание, принципов,...</td>\n      <td>NaN</td>\n    </tr>\n    <tr>\n      <th>998</th>\n      <td>[описание, работодателя, спичечная, фабрика, ф...</td>\n      <td>[разряд, 5, 6]</td>\n      <td>[5/2, 8, часовые, смены, в т.ч., в, ночь, з, п...</td>\n    </tr>\n  </tbody>\n</table>\n<p>999 rows × 3 columns</p>\n</div>"
     },
     "execution_count": 14,
     "metadata": {},
     "output_type": "execute_result"
    }
   ],
   "source": [
    "df_clf[[\n",
    "    'responsibilities_cleaned', 'requirements_cleaned', 'terms_cleaned'\n",
    "]]"
   ]
  },
  {
   "attachments": {},
   "cell_type": "markdown",
   "metadata": {},
   "source": [
    "# Разметка данных для классификации\n",
    "\n",
    "Обозначим классы как\n",
    "- 0: requirement\n",
    "- 1: term\n",
    "- 2: other"
   ]
  },
  {
   "cell_type": "code",
   "execution_count": 15,
   "metadata": {},
   "outputs": [
    {
     "name": "stderr",
     "output_type": "stream",
     "text": [
      "100%|██████████| 999/999 [00:06<00:00, 145.32it/s]\n"
     ]
    }
   ],
   "source": [
    "final = pd.DataFrame()\n",
    "for idx in tqdm(df_clf.index):\n",
    "    final = pd.concat([final, generate_dataset(df_clf.loc[idx])], ignore_index=True)\n",
    "\n",
    "final.index = range(len(final))"
   ]
  },
  {
   "cell_type": "code",
   "execution_count": 16,
   "metadata": {},
   "outputs": [
    {
     "data": {
      "text/plain": "<Figure size 700x500 with 1 Axes>",
      "image/png": "[encoded data removed]"
     },
     "metadata": {},
     "output_type": "display_data"
    }
   ],
   "source": [
    "final.groupby('class').count()['responsibilities_bigrams'].plot(kind='pie', figsize=(7, 5), legend=True);"
   ]
  },
  {
   "cell_type": "code",
   "execution_count": 17,
   "metadata": {},
   "outputs": [],
   "source": [
    "final = final[final['class'] != 3]"
   ]
  },
  {
   "cell_type": "code",
   "execution_count": 18,
   "metadata": {},
   "outputs": [],
   "source": [
    "final.to_pickle(SAVE_TO)"
   ]
  },
  {
   "cell_type": "code",
   "execution_count": null,
   "metadata": {},
   "outputs": [],
   "source": []
  }
 ],
 "metadata": {
  "kernelspec": {
   "display_name": "Python 3",
   "language": "python",
   "name": "python3"
  },
  "language_info": {
   "codemirror_mode": {
    "name": "ipython",
    "version": 3
   },
   "file_extension": ".py",
   "mimetype": "text/x-python",
   "name": "python",
   "nbconvert_exporter": "python",
   "pygments_lexer": "ipython3",
   "version": "3.9.6"
  },
  "orig_nbformat": 4
 },
 "nbformat": 4,
 "nbformat_minor": 2
}